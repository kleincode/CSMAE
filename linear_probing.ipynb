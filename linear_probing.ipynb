{
 "cells": [
  {
   "cell_type": "code",
   "execution_count": 1,
   "metadata": {},
   "outputs": [
    {
     "name": "stderr",
     "output_type": "stream",
     "text": [
      "/home/kleincode/miniconda3/envs/csmae/lib/python3.8/site-packages/tqdm/auto.py:21: TqdmWarning: IProgress not found. Please update jupyter and ipywidgets. See https://ipywidgets.readthedocs.io/en/stable/user_install.html\n",
      "  from .autonotebook import tqdm as notebook_tqdm\n"
     ]
    }
   ],
   "source": [
    "%load_ext autoreload\n",
    "%autoreload 2\n",
    "import numpy as np\n",
    "import pickle\n",
    "import torch\n",
    "import torch.utils.data\n",
    "import torch.nn as nn\n",
    "from tqdm import tqdm\n",
    "DEVICE = \"cuda\""
   ]
  },
  {
   "cell_type": "code",
   "execution_count": 2,
   "metadata": {},
   "outputs": [],
   "source": [
    "train_file = \"train43.pkl\"\n",
    "test_file = \"test43.pkl\"\n",
    "val_file = \"val43.pkl\""
   ]
  },
  {
   "cell_type": "code",
   "execution_count": 3,
   "metadata": {},
   "outputs": [
    {
     "data": {
      "text/plain": [
       "(269695, (269695, 43), (269695, 768))"
      ]
     },
     "execution_count": 3,
     "metadata": {},
     "output_type": "execute_result"
    }
   ],
   "source": [
    "with open(train_file, \"rb\") as f:\n",
    "    train_keys, Y_train, X_train = pickle.load(f)\n",
    "len(train_keys), Y_train.shape, X_train.shape"
   ]
  },
  {
   "cell_type": "code",
   "execution_count": 4,
   "metadata": {},
   "outputs": [],
   "source": [
    "X_train_tensor = torch.tensor(X_train, dtype=torch.float32, device=DEVICE)\n",
    "Y_train_tensor = torch.tensor(Y_train, dtype=torch.float32, device=DEVICE)\n",
    "train_set = torch.utils.data.TensorDataset(X_train_tensor, Y_train_tensor)\n",
    "train_dataloader = torch.utils.data.DataLoader(train_set, batch_size=64, shuffle=True)"
   ]
  },
  {
   "cell_type": "code",
   "execution_count": 5,
   "metadata": {},
   "outputs": [
    {
     "data": {
      "text/plain": [
       "(123723, (123723, 43), (123723, 768))"
      ]
     },
     "execution_count": 5,
     "metadata": {},
     "output_type": "execute_result"
    }
   ],
   "source": [
    "with open(val_file, \"rb\") as f:\n",
    "    val_keys, Y_val, X_val = pickle.load(f)\n",
    "len(val_keys), Y_val.shape, X_val.shape"
   ]
  },
  {
   "cell_type": "code",
   "execution_count": 6,
   "metadata": {},
   "outputs": [],
   "source": [
    "X_val_tensor = torch.tensor(X_val, dtype=torch.float32, device=DEVICE)\n",
    "Y_val_tensor = torch.tensor(Y_val, dtype=torch.float32, device=DEVICE)\n",
    "val_set = torch.utils.data.TensorDataset(X_val_tensor, Y_val_tensor)\n",
    "val_dataloader = torch.utils.data.DataLoader(val_set, batch_size=64, shuffle=False)"
   ]
  },
  {
   "cell_type": "code",
   "execution_count": 7,
   "metadata": {},
   "outputs": [],
   "source": [
    "model = nn.Linear(X_train.shape[-1], Y_train.shape[-1]).to(DEVICE)"
   ]
  },
  {
   "cell_type": "code",
   "execution_count": 8,
   "metadata": {},
   "outputs": [
    {
     "name": "stderr",
     "output_type": "stream",
     "text": [
      "Epoch 0:   0%|          | 0/4214 [00:00<?, ?it/s]"
     ]
    },
    {
     "name": "stderr",
     "output_type": "stream",
     "text": [
      "Epoch 0: 100%|██████████| 4214/4214 [00:04<00:00, 1038.62it/s]\n"
     ]
    },
    {
     "name": "stdout",
     "output_type": "stream",
     "text": [
      "Epoch 0 loss: 0.43014115182126816\n"
     ]
    },
    {
     "name": "stderr",
     "output_type": "stream",
     "text": [
      "Validation 0: 100%|██████████| 1934/1934 [00:00<00:00, 2667.17it/s]\n"
     ]
    },
    {
     "name": "stdout",
     "output_type": "stream",
     "text": [
      "Validation loss: 0.2958182940199863\n"
     ]
    },
    {
     "name": "stderr",
     "output_type": "stream",
     "text": [
      "Epoch 1: 100%|██████████| 4214/4214 [00:03<00:00, 1332.99it/s]\n"
     ]
    },
    {
     "name": "stdout",
     "output_type": "stream",
     "text": [
      "Epoch 1 loss: 0.22905543687349822\n"
     ]
    },
    {
     "name": "stderr",
     "output_type": "stream",
     "text": [
      "Validation 1: 100%|██████████| 1934/1934 [00:00<00:00, 2358.17it/s]\n"
     ]
    },
    {
     "name": "stdout",
     "output_type": "stream",
     "text": [
      "Validation loss: 0.17648849858600943\n"
     ]
    },
    {
     "name": "stderr",
     "output_type": "stream",
     "text": [
      "Epoch 2: 100%|██████████| 4214/4214 [00:03<00:00, 1334.95it/s]\n"
     ]
    },
    {
     "name": "stdout",
     "output_type": "stream",
     "text": [
      "Epoch 2 loss: 0.15477837596705699\n"
     ]
    },
    {
     "name": "stderr",
     "output_type": "stream",
     "text": [
      "Validation 2: 100%|██████████| 1934/1934 [00:00<00:00, 2409.28it/s]\n"
     ]
    },
    {
     "name": "stdout",
     "output_type": "stream",
     "text": [
      "Validation loss: 0.13227018689103\n"
     ]
    },
    {
     "name": "stderr",
     "output_type": "stream",
     "text": [
      "Epoch 3: 100%|██████████| 4214/4214 [00:03<00:00, 1285.94it/s]\n"
     ]
    },
    {
     "name": "stdout",
     "output_type": "stream",
     "text": [
      "Epoch 3 loss: 0.12800389728948694\n"
     ]
    },
    {
     "name": "stderr",
     "output_type": "stream",
     "text": [
      "Validation 3: 100%|██████████| 1934/1934 [00:00<00:00, 2482.20it/s]\n"
     ]
    },
    {
     "name": "stdout",
     "output_type": "stream",
     "text": [
      "Validation loss: 0.11663122158670931\n"
     ]
    },
    {
     "name": "stderr",
     "output_type": "stream",
     "text": [
      "Epoch 4: 100%|██████████| 4214/4214 [00:03<00:00, 1296.24it/s]\n"
     ]
    },
    {
     "name": "stdout",
     "output_type": "stream",
     "text": [
      "Epoch 4 loss: 0.11888617869797169\n"
     ]
    },
    {
     "name": "stderr",
     "output_type": "stream",
     "text": [
      "Validation 4: 100%|██████████| 1934/1934 [00:00<00:00, 2360.58it/s]\n"
     ]
    },
    {
     "name": "stdout",
     "output_type": "stream",
     "text": [
      "Validation loss: 0.11122282146044737\n"
     ]
    },
    {
     "name": "stderr",
     "output_type": "stream",
     "text": [
      "Epoch 5: 100%|██████████| 4214/4214 [00:03<00:00, 1280.62it/s]\n"
     ]
    },
    {
     "name": "stdout",
     "output_type": "stream",
     "text": [
      "Epoch 5 loss: 0.11576589522419181\n"
     ]
    },
    {
     "name": "stderr",
     "output_type": "stream",
     "text": [
      "Validation 5: 100%|██████████| 1934/1934 [00:00<00:00, 2464.59it/s]\n"
     ]
    },
    {
     "name": "stdout",
     "output_type": "stream",
     "text": [
      "Validation loss: 0.1092512587369723\n"
     ]
    },
    {
     "name": "stderr",
     "output_type": "stream",
     "text": [
      "Epoch 6: 100%|██████████| 4214/4214 [00:03<00:00, 1276.65it/s]\n"
     ]
    },
    {
     "name": "stdout",
     "output_type": "stream",
     "text": [
      "Epoch 6 loss: 0.11450311397637697\n"
     ]
    },
    {
     "name": "stderr",
     "output_type": "stream",
     "text": [
      "Validation 6: 100%|██████████| 1934/1934 [00:00<00:00, 2230.09it/s]\n"
     ]
    },
    {
     "name": "stdout",
     "output_type": "stream",
     "text": [
      "Validation loss: 0.10837487918719642\n"
     ]
    },
    {
     "name": "stderr",
     "output_type": "stream",
     "text": [
      "Epoch 7: 100%|██████████| 4214/4214 [00:03<00:00, 1282.01it/s]\n"
     ]
    },
    {
     "name": "stdout",
     "output_type": "stream",
     "text": [
      "Epoch 7 loss: 0.11381225351210618\n"
     ]
    },
    {
     "name": "stderr",
     "output_type": "stream",
     "text": [
      "Validation 7: 100%|██████████| 1934/1934 [00:00<00:00, 2497.54it/s]\n"
     ]
    },
    {
     "name": "stdout",
     "output_type": "stream",
     "text": [
      "Validation loss: 0.10776615805631155\n"
     ]
    },
    {
     "name": "stderr",
     "output_type": "stream",
     "text": [
      "Epoch 8: 100%|██████████| 4214/4214 [00:03<00:00, 1324.91it/s]\n"
     ]
    },
    {
     "name": "stdout",
     "output_type": "stream",
     "text": [
      "Epoch 8 loss: 0.11335946478066311\n"
     ]
    },
    {
     "name": "stderr",
     "output_type": "stream",
     "text": [
      "Validation 8: 100%|██████████| 1934/1934 [00:00<00:00, 2482.70it/s]\n"
     ]
    },
    {
     "name": "stdout",
     "output_type": "stream",
     "text": [
      "Validation loss: 0.10744729437051494\n"
     ]
    },
    {
     "name": "stderr",
     "output_type": "stream",
     "text": [
      "Epoch 9: 100%|██████████| 4214/4214 [00:03<00:00, 1267.49it/s]\n"
     ]
    },
    {
     "name": "stdout",
     "output_type": "stream",
     "text": [
      "Epoch 9 loss: 0.11302041913208997\n"
     ]
    },
    {
     "name": "stderr",
     "output_type": "stream",
     "text": [
      "Validation 9: 100%|██████████| 1934/1934 [00:00<00:00, 2283.14it/s]"
     ]
    },
    {
     "name": "stdout",
     "output_type": "stream",
     "text": [
      "Validation loss: 0.10710026153446114\n"
     ]
    },
    {
     "name": "stderr",
     "output_type": "stream",
     "text": [
      "\n"
     ]
    }
   ],
   "source": [
    "criterion = nn.BCEWithLogitsLoss()\n",
    "optim = torch.optim.Adam(model.parameters(), lr=3e-4)\n",
    "\n",
    "train_losses = []\n",
    "val_losses = []\n",
    "for epoch in range(10):\n",
    "    # Training\n",
    "    train_loss = 0.0\n",
    "    for X_batch, Y_batch in tqdm(train_dataloader, desc=f\"Epoch {epoch}\"):\n",
    "        Y_pred = model(X_batch)\n",
    "        loss = criterion(Y_pred, Y_batch)\n",
    "        optim.zero_grad()\n",
    "        loss.backward()\n",
    "        optim.step()\n",
    "        train_loss += loss.item()\n",
    "    train_loss /= len(train_dataloader)\n",
    "    train_losses.append(train_loss)\n",
    "    print(f\"Epoch {epoch} loss: {train_loss}\")\n",
    "    \n",
    "    # Validation\n",
    "    val_loss = 0.0\n",
    "    with torch.no_grad():\n",
    "        for X_batch, Y_batch in tqdm(val_dataloader, desc=f\"Validation {epoch}\"):\n",
    "            Y_pred = model(X_batch)\n",
    "            loss = criterion(Y_pred, Y_batch)\n",
    "            val_loss += loss.item()\n",
    "    val_loss /= len(val_dataloader)\n",
    "    val_losses.append(val_loss)\n",
    "    print(f\"Validation loss: {val_loss}\")"
   ]
  },
  {
   "cell_type": "code",
   "execution_count": 9,
   "metadata": {},
   "outputs": [
    {
     "data": {
      "image/png": "[encoded data removed]",
      "text/plain": [
       "<Figure size 640x480 with 1 Axes>"
      ]
     },
     "metadata": {},
     "output_type": "display_data"
    }
   ],
   "source": [
    "import matplotlib.pyplot as plt\n",
    "x = np.arange(1, len(train_losses) + 1)\n",
    "plt.plot(x, train_losses, label=\"Train loss\")\n",
    "plt.plot(x, val_losses, label=\"Validation loss\")\n",
    "plt.title(\"Training curve\")\n",
    "plt.legend()\n",
    "plt.show()"
   ]
  },
  {
   "cell_type": "code",
   "execution_count": 10,
   "metadata": {},
   "outputs": [
    {
     "name": "stderr",
     "output_type": "stream",
     "text": [
      "Testing: 100%|██████████| 4214/4214 [00:01<00:00, 2812.38it/s]"
     ]
    },
    {
     "name": "stdout",
     "output_type": "stream",
     "text": [
      "Training Accuracy: 95.42%\n"
     ]
    },
    {
     "name": "stderr",
     "output_type": "stream",
     "text": [
      "\n"
     ]
    }
   ],
   "source": [
    "progress = tqdm(train_dataloader, desc=f\"Testing\")\n",
    "accs = []\n",
    "for X_batch, Y_batch in progress:\n",
    "    Y_pred = model(X_batch)\n",
    "    acc = ((Y_pred > 0) == Y_batch).cpu().numpy().mean()\n",
    "    accs.append(acc)\n",
    "acc = np.mean(accs)\n",
    "print(f\"Training Accuracy: {acc:.2%}\")"
   ]
  },
  {
   "cell_type": "code",
   "execution_count": 11,
   "metadata": {},
   "outputs": [
    {
     "data": {
      "text/plain": [
       "(125866, (125866, 43), (125866, 768))"
      ]
     },
     "execution_count": 11,
     "metadata": {},
     "output_type": "execute_result"
    }
   ],
   "source": [
    "with open(test_file, \"rb\") as f:\n",
    "    test_keys, Y_test, X_test = pickle.load(f)\n",
    "len(test_keys), Y_test.shape, X_test.shape"
   ]
  },
  {
   "cell_type": "code",
   "execution_count": 12,
   "metadata": {},
   "outputs": [],
   "source": [
    "X_test_tensor = torch.tensor(X_test, dtype=torch.float32, device=DEVICE)\n",
    "Y_test_tensor = torch.tensor(Y_test, dtype=torch.float32, device=DEVICE)\n",
    "test_set = torch.utils.data.TensorDataset(X_test_tensor, Y_test_tensor)\n",
    "test_dataloader = torch.utils.data.DataLoader(test_set, batch_size=64, shuffle=False)"
   ]
  },
  {
   "cell_type": "code",
   "execution_count": 13,
   "metadata": {},
   "outputs": [
    {
     "name": "stderr",
     "output_type": "stream",
     "text": [
      "Testing:   0%|          | 0/1967 [00:00<?, ?it/s]"
     ]
    },
    {
     "name": "stderr",
     "output_type": "stream",
     "text": [
      "Testing: 100%|██████████| 1967/1967 [00:00<00:00, 3165.62it/s]\n"
     ]
    }
   ],
   "source": [
    "progress = tqdm(test_dataloader, desc=f\"Testing\")\n",
    "preds = []\n",
    "with torch.no_grad():\n",
    "    for X_batch, Y_batch in progress:\n",
    "        y_pred = model(X_batch)\n",
    "        preds.append(y_pred.cpu().detach().numpy())\n",
    "Y_pred = np.concatenate(preds)"
   ]
  },
  {
   "cell_type": "code",
   "execution_count": 15,
   "metadata": {},
   "outputs": [
    {
     "name": "stdout",
     "output_type": "stream",
     "text": [
      "Recall macro: 18.6%\n",
      "Recall sample: 60.4%\n",
      "Recall micro: 53.9%\n",
      "F2 macro: 19.6%\n",
      "F2 sample: 61.0%\n",
      "F2 micro: 57.0%\n",
      "Hamming loss: 4.5%\n"
     ]
    },
    {
     "data": {
      "text/html": [
       "<div>\n",
       "<style scoped>\n",
       "    .dataframe tbody tr th:only-of-type {\n",
       "        vertical-align: middle;\n",
       "    }\n",
       "\n",
       "    .dataframe tbody tr th {\n",
       "        vertical-align: top;\n",
       "    }\n",
       "\n",
       "    .dataframe thead th {\n",
       "        text-align: right;\n",
       "    }\n",
       "</style>\n",
       "<table border=\"1\" class=\"dataframe\">\n",
       "  <thead>\n",
       "    <tr style=\"text-align: right;\">\n",
       "      <th></th>\n",
       "      <th>precision</th>\n",
       "      <th>recall</th>\n",
       "      <th>f1-score</th>\n",
       "      <th>f2-score</th>\n",
       "      <th>support</th>\n",
       "    </tr>\n",
       "  </thead>\n",
       "  <tbody>\n",
       "    <tr>\n",
       "      <th>Continuous urban fabric</th>\n",
       "      <td>0.580547</td>\n",
       "      <td>0.072321</td>\n",
       "      <td>0.128620</td>\n",
       "      <td>0.087671</td>\n",
       "      <td>2641.0</td>\n",
       "    </tr>\n",
       "    <tr>\n",
       "      <th>Discontinuous urban fabric</th>\n",
       "      <td>0.796531</td>\n",
       "      <td>0.463968</td>\n",
       "      <td>0.586379</td>\n",
       "      <td>0.506240</td>\n",
       "      <td>15736.0</td>\n",
       "    </tr>\n",
       "    <tr>\n",
       "      <th>Industrial or commercial units</th>\n",
       "      <td>0.579365</td>\n",
       "      <td>0.155983</td>\n",
       "      <td>0.245791</td>\n",
       "      <td>0.182683</td>\n",
       "      <td>2808.0</td>\n",
       "    </tr>\n",
       "    <tr>\n",
       "      <th>Road and rail networks and associated land</th>\n",
       "      <td>0.000000</td>\n",
       "      <td>0.000000</td>\n",
       "      <td>0.000000</td>\n",
       "      <td>0.000000</td>\n",
       "      <td>510.0</td>\n",
       "    </tr>\n",
       "    <tr>\n",
       "      <th>Port areas</th>\n",
       "      <td>0.000000</td>\n",
       "      <td>0.000000</td>\n",
       "      <td>0.000000</td>\n",
       "      <td>0.000000</td>\n",
       "      <td>80.0</td>\n",
       "    </tr>\n",
       "    <tr>\n",
       "      <th>Airports</th>\n",
       "      <td>0.000000</td>\n",
       "      <td>0.000000</td>\n",
       "      <td>0.000000</td>\n",
       "      <td>0.000000</td>\n",
       "      <td>137.0</td>\n",
       "    </tr>\n",
       "    <tr>\n",
       "      <th>Mineral extraction sites</th>\n",
       "      <td>0.000000</td>\n",
       "      <td>0.000000</td>\n",
       "      <td>0.000000</td>\n",
       "      <td>0.000000</td>\n",
       "      <td>478.0</td>\n",
       "    </tr>\n",
       "    <tr>\n",
       "      <th>Dump sites</th>\n",
       "      <td>0.000000</td>\n",
       "      <td>0.000000</td>\n",
       "      <td>0.000000</td>\n",
       "      <td>0.000000</td>\n",
       "      <td>83.0</td>\n",
       "    </tr>\n",
       "    <tr>\n",
       "      <th>Construction sites</th>\n",
       "      <td>0.000000</td>\n",
       "      <td>0.000000</td>\n",
       "      <td>0.000000</td>\n",
       "      <td>0.000000</td>\n",
       "      <td>159.0</td>\n",
       "    </tr>\n",
       "    <tr>\n",
       "      <th>Green urban areas</th>\n",
       "      <td>0.000000</td>\n",
       "      <td>0.000000</td>\n",
       "      <td>0.000000</td>\n",
       "      <td>0.000000</td>\n",
       "      <td>290.0</td>\n",
       "    </tr>\n",
       "    <tr>\n",
       "      <th>Sport and leisure facilities</th>\n",
       "      <td>0.000000</td>\n",
       "      <td>0.000000</td>\n",
       "      <td>0.000000</td>\n",
       "      <td>0.000000</td>\n",
       "      <td>604.0</td>\n",
       "    </tr>\n",
       "    <tr>\n",
       "      <th>Non-irrigated arable land</th>\n",
       "      <td>0.783367</td>\n",
       "      <td>0.719038</td>\n",
       "      <td>0.749825</td>\n",
       "      <td>0.731045</td>\n",
       "      <td>44789.0</td>\n",
       "    </tr>\n",
       "    <tr>\n",
       "      <th>Permanently irrigated land</th>\n",
       "      <td>0.500000</td>\n",
       "      <td>0.000909</td>\n",
       "      <td>0.001814</td>\n",
       "      <td>0.001135</td>\n",
       "      <td>3302.0</td>\n",
       "    </tr>\n",
       "    <tr>\n",
       "      <th>Rice fields</th>\n",
       "      <td>0.000000</td>\n",
       "      <td>0.000000</td>\n",
       "      <td>0.000000</td>\n",
       "      <td>0.000000</td>\n",
       "      <td>651.0</td>\n",
       "    </tr>\n",
       "    <tr>\n",
       "      <th>Vineyards</th>\n",
       "      <td>0.000000</td>\n",
       "      <td>0.000000</td>\n",
       "      <td>0.000000</td>\n",
       "      <td>0.000000</td>\n",
       "      <td>2250.0</td>\n",
       "    </tr>\n",
       "    <tr>\n",
       "      <th>Fruit trees and berry plantations</th>\n",
       "      <td>0.228571</td>\n",
       "      <td>0.011396</td>\n",
       "      <td>0.021710</td>\n",
       "      <td>0.014070</td>\n",
       "      <td>702.0</td>\n",
       "    </tr>\n",
       "    <tr>\n",
       "      <th>Olive groves</th>\n",
       "      <td>0.000000</td>\n",
       "      <td>0.000000</td>\n",
       "      <td>0.000000</td>\n",
       "      <td>0.000000</td>\n",
       "      <td>3058.0</td>\n",
       "    </tr>\n",
       "    <tr>\n",
       "      <th>Pastures</th>\n",
       "      <td>0.747127</td>\n",
       "      <td>0.476127</td>\n",
       "      <td>0.581609</td>\n",
       "      <td>0.513370</td>\n",
       "      <td>24170.0</td>\n",
       "    </tr>\n",
       "    <tr>\n",
       "      <th>Annual crops associated with permanent crops</th>\n",
       "      <td>0.709459</td>\n",
       "      <td>0.060172</td>\n",
       "      <td>0.110935</td>\n",
       "      <td>0.073653</td>\n",
       "      <td>1745.0</td>\n",
       "    </tr>\n",
       "    <tr>\n",
       "      <th>Complex cultivation patterns</th>\n",
       "      <td>0.642975</td>\n",
       "      <td>0.426242</td>\n",
       "      <td>0.512642</td>\n",
       "      <td>0.457055</td>\n",
       "      <td>25638.0</td>\n",
       "    </tr>\n",
       "    <tr>\n",
       "      <th>Land principally occupied by agriculture, with significant areas of natural vegetation</th>\n",
       "      <td>0.646161</td>\n",
       "      <td>0.407026</td>\n",
       "      <td>0.499445</td>\n",
       "      <td>0.439561</td>\n",
       "      <td>32052.0</td>\n",
       "    </tr>\n",
       "    <tr>\n",
       "      <th>Agro-forestry areas</th>\n",
       "      <td>0.671045</td>\n",
       "      <td>0.499518</td>\n",
       "      <td>0.572714</td>\n",
       "      <td>0.526430</td>\n",
       "      <td>7261.0</td>\n",
       "    </tr>\n",
       "    <tr>\n",
       "      <th>Broad-leaved forest</th>\n",
       "      <td>0.693027</td>\n",
       "      <td>0.482215</td>\n",
       "      <td>0.568714</td>\n",
       "      <td>0.513452</td>\n",
       "      <td>34130.0</td>\n",
       "    </tr>\n",
       "    <tr>\n",
       "      <th>Coniferous forest</th>\n",
       "      <td>0.792618</td>\n",
       "      <td>0.736037</td>\n",
       "      <td>0.763280</td>\n",
       "      <td>0.746697</td>\n",
       "      <td>39532.0</td>\n",
       "    </tr>\n",
       "    <tr>\n",
       "      <th>Mixed forest</th>\n",
       "      <td>0.736495</td>\n",
       "      <td>0.718463</td>\n",
       "      <td>0.727368</td>\n",
       "      <td>0.721999</td>\n",
       "      <td>42641.0</td>\n",
       "    </tr>\n",
       "    <tr>\n",
       "      <th>Natural grassland</th>\n",
       "      <td>0.717949</td>\n",
       "      <td>0.073271</td>\n",
       "      <td>0.132972</td>\n",
       "      <td>0.089310</td>\n",
       "      <td>2675.0</td>\n",
       "    </tr>\n",
       "    <tr>\n",
       "      <th>Moors and heathland</th>\n",
       "      <td>0.618182</td>\n",
       "      <td>0.086587</td>\n",
       "      <td>0.151899</td>\n",
       "      <td>0.104572</td>\n",
       "      <td>1178.0</td>\n",
       "    </tr>\n",
       "    <tr>\n",
       "      <th>Sclerophyllous vegetation</th>\n",
       "      <td>0.596439</td>\n",
       "      <td>0.074638</td>\n",
       "      <td>0.132673</td>\n",
       "      <td>0.090467</td>\n",
       "      <td>2693.0</td>\n",
       "    </tr>\n",
       "    <tr>\n",
       "      <th>Transitional woodland/shrub</th>\n",
       "      <td>0.628878</td>\n",
       "      <td>0.460192</td>\n",
       "      <td>0.531471</td>\n",
       "      <td>0.486279</td>\n",
       "      <td>36211.0</td>\n",
       "    </tr>\n",
       "    <tr>\n",
       "      <th>Beaches, dunes, sands</th>\n",
       "      <td>0.800000</td>\n",
       "      <td>0.018100</td>\n",
       "      <td>0.035398</td>\n",
       "      <td>0.022497</td>\n",
       "      <td>221.0</td>\n",
       "    </tr>\n",
       "    <tr>\n",
       "      <th>Bare rock</th>\n",
       "      <td>0.200000</td>\n",
       "      <td>0.002252</td>\n",
       "      <td>0.004454</td>\n",
       "      <td>0.002807</td>\n",
       "      <td>444.0</td>\n",
       "    </tr>\n",
       "    <tr>\n",
       "      <th>Sparsely vegetated areas</th>\n",
       "      <td>0.000000</td>\n",
       "      <td>0.000000</td>\n",
       "      <td>0.000000</td>\n",
       "      <td>0.000000</td>\n",
       "      <td>165.0</td>\n",
       "    </tr>\n",
       "    <tr>\n",
       "      <th>Burnt areas</th>\n",
       "      <td>0.000000</td>\n",
       "      <td>0.000000</td>\n",
       "      <td>0.000000</td>\n",
       "      <td>0.000000</td>\n",
       "      <td>36.0</td>\n",
       "    </tr>\n",
       "    <tr>\n",
       "      <th>Inland marshes</th>\n",
       "      <td>0.000000</td>\n",
       "      <td>0.000000</td>\n",
       "      <td>0.000000</td>\n",
       "      <td>0.000000</td>\n",
       "      <td>1352.0</td>\n",
       "    </tr>\n",
       "    <tr>\n",
       "      <th>Peatbogs</th>\n",
       "      <td>0.662577</td>\n",
       "      <td>0.322308</td>\n",
       "      <td>0.433662</td>\n",
       "      <td>0.359202</td>\n",
       "      <td>4021.0</td>\n",
       "    </tr>\n",
       "    <tr>\n",
       "      <th>Salt marshes</th>\n",
       "      <td>0.000000</td>\n",
       "      <td>0.000000</td>\n",
       "      <td>0.000000</td>\n",
       "      <td>0.000000</td>\n",
       "      <td>259.0</td>\n",
       "    </tr>\n",
       "    <tr>\n",
       "      <th>Salines</th>\n",
       "      <td>0.000000</td>\n",
       "      <td>0.000000</td>\n",
       "      <td>0.000000</td>\n",
       "      <td>0.000000</td>\n",
       "      <td>105.0</td>\n",
       "    </tr>\n",
       "    <tr>\n",
       "      <th>Intertidal flats</th>\n",
       "      <td>0.000000</td>\n",
       "      <td>0.000000</td>\n",
       "      <td>0.000000</td>\n",
       "      <td>0.000000</td>\n",
       "      <td>167.0</td>\n",
       "    </tr>\n",
       "    <tr>\n",
       "      <th>Water courses</th>\n",
       "      <td>0.598253</td>\n",
       "      <td>0.177003</td>\n",
       "      <td>0.273180</td>\n",
       "      <td>0.206015</td>\n",
       "      <td>2322.0</td>\n",
       "    </tr>\n",
       "    <tr>\n",
       "      <th>Water bodies</th>\n",
       "      <td>0.759816</td>\n",
       "      <td>0.627937</td>\n",
       "      <td>0.687610</td>\n",
       "      <td>0.650519</td>\n",
       "      <td>13960.0</td>\n",
       "    </tr>\n",
       "    <tr>\n",
       "      <th>Coastal lagoons</th>\n",
       "      <td>0.000000</td>\n",
       "      <td>0.000000</td>\n",
       "      <td>0.000000</td>\n",
       "      <td>0.000000</td>\n",
       "      <td>347.0</td>\n",
       "    </tr>\n",
       "    <tr>\n",
       "      <th>Estuaries</th>\n",
       "      <td>0.000000</td>\n",
       "      <td>0.000000</td>\n",
       "      <td>0.000000</td>\n",
       "      <td>0.000000</td>\n",
       "      <td>251.0</td>\n",
       "    </tr>\n",
       "    <tr>\n",
       "      <th>Sea and ocean</th>\n",
       "      <td>0.927176</td>\n",
       "      <td>0.908419</td>\n",
       "      <td>0.917702</td>\n",
       "      <td>0.912109</td>\n",
       "      <td>17449.0</td>\n",
       "    </tr>\n",
       "    <tr>\n",
       "      <th>micro avg</th>\n",
       "      <td>0.736749</td>\n",
       "      <td>0.538969</td>\n",
       "      <td>0.622528</td>\n",
       "      <td>0.569548</td>\n",
       "      <td>369303.0</td>\n",
       "    </tr>\n",
       "    <tr>\n",
       "      <th>macro avg</th>\n",
       "      <td>0.363176</td>\n",
       "      <td>0.185584</td>\n",
       "      <td>0.217950</td>\n",
       "      <td>0.196252</td>\n",
       "      <td>369303.0</td>\n",
       "    </tr>\n",
       "    <tr>\n",
       "      <th>weighted avg</th>\n",
       "      <td>0.699911</td>\n",
       "      <td>0.538969</td>\n",
       "      <td>0.596150</td>\n",
       "      <td>0.559438</td>\n",
       "      <td>369303.0</td>\n",
       "    </tr>\n",
       "    <tr>\n",
       "      <th>samples avg</th>\n",
       "      <td>0.744167</td>\n",
       "      <td>0.604011</td>\n",
       "      <td>0.634295</td>\n",
       "      <td>0.610425</td>\n",
       "      <td>369303.0</td>\n",
       "    </tr>\n",
       "  </tbody>\n",
       "</table>\n",
       "</div>"
      ],
      "text/plain": [
       "                                                    precision    recall  \\\n",
       "Continuous urban fabric                              0.580547  0.072321   \n",
       "Discontinuous urban fabric                           0.796531  0.463968   \n",
       "Industrial or commercial units                       0.579365  0.155983   \n",
       "Road and rail networks and associated land           0.000000  0.000000   \n",
       "Port areas                                           0.000000  0.000000   \n",
       "Airports                                             0.000000  0.000000   \n",
       "Mineral extraction sites                             0.000000  0.000000   \n",
       "Dump sites                                           0.000000  0.000000   \n",
       "Construction sites                                   0.000000  0.000000   \n",
       "Green urban areas                                    0.000000  0.000000   \n",
       "Sport and leisure facilities                         0.000000  0.000000   \n",
       "Non-irrigated arable land                            0.783367  0.719038   \n",
       "Permanently irrigated land                           0.500000  0.000909   \n",
       "Rice fields                                          0.000000  0.000000   \n",
       "Vineyards                                            0.000000  0.000000   \n",
       "Fruit trees and berry plantations                    0.228571  0.011396   \n",
       "Olive groves                                         0.000000  0.000000   \n",
       "Pastures                                             0.747127  0.476127   \n",
       "Annual crops associated with permanent crops         0.709459  0.060172   \n",
       "Complex cultivation patterns                         0.642975  0.426242   \n",
       "Land principally occupied by agriculture, with ...   0.646161  0.407026   \n",
       "Agro-forestry areas                                  0.671045  0.499518   \n",
       "Broad-leaved forest                                  0.693027  0.482215   \n",
       "Coniferous forest                                    0.792618  0.736037   \n",
       "Mixed forest                                         0.736495  0.718463   \n",
       "Natural grassland                                    0.717949  0.073271   \n",
       "Moors and heathland                                  0.618182  0.086587   \n",
       "Sclerophyllous vegetation                            0.596439  0.074638   \n",
       "Transitional woodland/shrub                          0.628878  0.460192   \n",
       "Beaches, dunes, sands                                0.800000  0.018100   \n",
       "Bare rock                                            0.200000  0.002252   \n",
       "Sparsely vegetated areas                             0.000000  0.000000   \n",
       "Burnt areas                                          0.000000  0.000000   \n",
       "Inland marshes                                       0.000000  0.000000   \n",
       "Peatbogs                                             0.662577  0.322308   \n",
       "Salt marshes                                         0.000000  0.000000   \n",
       "Salines                                              0.000000  0.000000   \n",
       "Intertidal flats                                     0.000000  0.000000   \n",
       "Water courses                                        0.598253  0.177003   \n",
       "Water bodies                                         0.759816  0.627937   \n",
       "Coastal lagoons                                      0.000000  0.000000   \n",
       "Estuaries                                            0.000000  0.000000   \n",
       "Sea and ocean                                        0.927176  0.908419   \n",
       "micro avg                                            0.736749  0.538969   \n",
       "macro avg                                            0.363176  0.185584   \n",
       "weighted avg                                         0.699911  0.538969   \n",
       "samples avg                                          0.744167  0.604011   \n",
       "\n",
       "                                                    f1-score  f2-score  \\\n",
       "Continuous urban fabric                             0.128620  0.087671   \n",
       "Discontinuous urban fabric                          0.586379  0.506240   \n",
       "Industrial or commercial units                      0.245791  0.182683   \n",
       "Road and rail networks and associated land          0.000000  0.000000   \n",
       "Port areas                                          0.000000  0.000000   \n",
       "Airports                                            0.000000  0.000000   \n",
       "Mineral extraction sites                            0.000000  0.000000   \n",
       "Dump sites                                          0.000000  0.000000   \n",
       "Construction sites                                  0.000000  0.000000   \n",
       "Green urban areas                                   0.000000  0.000000   \n",
       "Sport and leisure facilities                        0.000000  0.000000   \n",
       "Non-irrigated arable land                           0.749825  0.731045   \n",
       "Permanently irrigated land                          0.001814  0.001135   \n",
       "Rice fields                                         0.000000  0.000000   \n",
       "Vineyards                                           0.000000  0.000000   \n",
       "Fruit trees and berry plantations                   0.021710  0.014070   \n",
       "Olive groves                                        0.000000  0.000000   \n",
       "Pastures                                            0.581609  0.513370   \n",
       "Annual crops associated with permanent crops        0.110935  0.073653   \n",
       "Complex cultivation patterns                        0.512642  0.457055   \n",
       "Land principally occupied by agriculture, with ...  0.499445  0.439561   \n",
       "Agro-forestry areas                                 0.572714  0.526430   \n",
       "Broad-leaved forest                                 0.568714  0.513452   \n",
       "Coniferous forest                                   0.763280  0.746697   \n",
       "Mixed forest                                        0.727368  0.721999   \n",
       "Natural grassland                                   0.132972  0.089310   \n",
       "Moors and heathland                                 0.151899  0.104572   \n",
       "Sclerophyllous vegetation                           0.132673  0.090467   \n",
       "Transitional woodland/shrub                         0.531471  0.486279   \n",
       "Beaches, dunes, sands                               0.035398  0.022497   \n",
       "Bare rock                                           0.004454  0.002807   \n",
       "Sparsely vegetated areas                            0.000000  0.000000   \n",
       "Burnt areas                                         0.000000  0.000000   \n",
       "Inland marshes                                      0.000000  0.000000   \n",
       "Peatbogs                                            0.433662  0.359202   \n",
       "Salt marshes                                        0.000000  0.000000   \n",
       "Salines                                             0.000000  0.000000   \n",
       "Intertidal flats                                    0.000000  0.000000   \n",
       "Water courses                                       0.273180  0.206015   \n",
       "Water bodies                                        0.687610  0.650519   \n",
       "Coastal lagoons                                     0.000000  0.000000   \n",
       "Estuaries                                           0.000000  0.000000   \n",
       "Sea and ocean                                       0.917702  0.912109   \n",
       "micro avg                                           0.622528  0.569548   \n",
       "macro avg                                           0.217950  0.196252   \n",
       "weighted avg                                        0.596150  0.559438   \n",
       "samples avg                                         0.634295  0.610425   \n",
       "\n",
       "                                                     support  \n",
       "Continuous urban fabric                               2641.0  \n",
       "Discontinuous urban fabric                           15736.0  \n",
       "Industrial or commercial units                        2808.0  \n",
       "Road and rail networks and associated land             510.0  \n",
       "Port areas                                              80.0  \n",
       "Airports                                               137.0  \n",
       "Mineral extraction sites                               478.0  \n",
       "Dump sites                                              83.0  \n",
       "Construction sites                                     159.0  \n",
       "Green urban areas                                      290.0  \n",
       "Sport and leisure facilities                           604.0  \n",
       "Non-irrigated arable land                            44789.0  \n",
       "Permanently irrigated land                            3302.0  \n",
       "Rice fields                                            651.0  \n",
       "Vineyards                                             2250.0  \n",
       "Fruit trees and berry plantations                      702.0  \n",
       "Olive groves                                          3058.0  \n",
       "Pastures                                             24170.0  \n",
       "Annual crops associated with permanent crops          1745.0  \n",
       "Complex cultivation patterns                         25638.0  \n",
       "Land principally occupied by agriculture, with ...   32052.0  \n",
       "Agro-forestry areas                                   7261.0  \n",
       "Broad-leaved forest                                  34130.0  \n",
       "Coniferous forest                                    39532.0  \n",
       "Mixed forest                                         42641.0  \n",
       "Natural grassland                                     2675.0  \n",
       "Moors and heathland                                   1178.0  \n",
       "Sclerophyllous vegetation                             2693.0  \n",
       "Transitional woodland/shrub                          36211.0  \n",
       "Beaches, dunes, sands                                  221.0  \n",
       "Bare rock                                              444.0  \n",
       "Sparsely vegetated areas                               165.0  \n",
       "Burnt areas                                             36.0  \n",
       "Inland marshes                                        1352.0  \n",
       "Peatbogs                                              4021.0  \n",
       "Salt marshes                                           259.0  \n",
       "Salines                                                105.0  \n",
       "Intertidal flats                                       167.0  \n",
       "Water courses                                         2322.0  \n",
       "Water bodies                                         13960.0  \n",
       "Coastal lagoons                                        347.0  \n",
       "Estuaries                                              251.0  \n",
       "Sea and ocean                                        17449.0  \n",
       "micro avg                                           369303.0  \n",
       "macro avg                                           369303.0  \n",
       "weighted avg                                        369303.0  \n",
       "samples avg                                         369303.0  "
      ]
     },
     "execution_count": 15,
     "metadata": {},
     "output_type": "execute_result"
    }
   ],
   "source": [
    "from eval_utils import get_ben_report\n",
    "get_ben_report(Y_test, Y_pred, logits=True)"
   ]
  },
  {
   "cell_type": "code",
   "execution_count": null,
   "metadata": {},
   "outputs": [],
   "source": []
  }
 ],
 "metadata": {
  "kernelspec": {
   "display_name": "csmae",
   "language": "python",
   "name": "python3"
  },
  "language_info": {
   "codemirror_mode": {
    "name": "ipython",
    "version": 3
   },
   "file_extension": ".py",
   "mimetype": "text/x-python",
   "name": "python",
   "nbconvert_exporter": "python",
   "pygments_lexer": "ipython3",
   "version": "3.8.16"
  }
 },
 "nbformat": 4,
 "nbformat_minor": 2
}
