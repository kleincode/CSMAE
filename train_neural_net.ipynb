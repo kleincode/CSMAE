{
 "cells": [
  {
   "cell_type": "code",
   "execution_count": 1,
   "metadata": {},
   "outputs": [
    {
     "name": "stderr",
     "output_type": "stream",
     "text": [
      "/home/kleincode/miniconda3/envs/csmae/lib/python3.8/site-packages/tqdm/auto.py:21: TqdmWarning: IProgress not found. Please update jupyter and ipywidgets. See https://ipywidgets.readthedocs.io/en/stable/user_install.html\n",
      "  from .autonotebook import tqdm as notebook_tqdm\n"
     ]
    }
   ],
   "source": [
    "import numpy as np\n",
    "import pickle\n",
    "import torch\n",
    "import torch.utils.data\n",
    "import torch.nn as nn\n",
    "from tqdm import tqdm\n",
    "DEVICE = \"cuda\""
   ]
  },
  {
   "cell_type": "code",
   "execution_count": 2,
   "metadata": {},
   "outputs": [
    {
     "data": {
      "text/plain": [
       "(269695, (269695, 43), (269695, 768))"
      ]
     },
     "execution_count": 2,
     "metadata": {},
     "output_type": "execute_result"
    }
   ],
   "source": [
    "with open(\"train_new.pkl\", \"rb\") as f:\n",
    "    train_keys, Y_train, X_train = pickle.load(f)\n",
    "len(train_keys), Y_train.shape, X_train.shape"
   ]
  },
  {
   "cell_type": "code",
   "execution_count": 3,
   "metadata": {},
   "outputs": [],
   "source": [
    "X_train_tensor = torch.tensor(X_train, dtype=torch.float32, device=DEVICE)\n",
    "Y_train_tensor = torch.tensor(Y_train, dtype=torch.float32, device=DEVICE)\n",
    "train_set = torch.utils.data.TensorDataset(X_train_tensor, Y_train_tensor)\n",
    "train_dataloader = torch.utils.data.DataLoader(train_set, batch_size=64, shuffle=True)"
   ]
  },
  {
   "cell_type": "code",
   "execution_count": 14,
   "metadata": {},
   "outputs": [],
   "source": [
    "model = nn.Sequential(\n",
    "    nn.Linear(768, 384),\n",
    "    nn.ReLU(),\n",
    "    nn.Linear(384, 192),\n",
    "    nn.ReLU(),\n",
    "    nn.Linear(192, 100),\n",
    "    nn.ReLU(),\n",
    "    nn.Linear(100, 43)\n",
    ").to(DEVICE)"
   ]
  },
  {
   "cell_type": "code",
   "execution_count": 15,
   "metadata": {},
   "outputs": [
    {
     "data": {
      "text/plain": [
       "4214"
      ]
     },
     "execution_count": 15,
     "metadata": {},
     "output_type": "execute_result"
    }
   ],
   "source": [
    "len(train_dataloader)"
   ]
  },
  {
   "cell_type": "code",
   "execution_count": 16,
   "metadata": {},
   "outputs": [
    {
     "name": "stderr",
     "output_type": "stream",
     "text": [
      "Epoch 0:   0%|          | 0/4214 [00:00<?, ?it/s]"
     ]
    },
    {
     "name": "stderr",
     "output_type": "stream",
     "text": [
      "Epoch 0: 100%|██████████| 4214/4214 [00:09<00:00, 433.84it/s, loss=0.106] \n",
      "Epoch 1: 100%|██████████| 4214/4214 [00:09<00:00, 434.96it/s, loss=0.112] \n",
      "Epoch 2: 100%|██████████| 4214/4214 [00:09<00:00, 439.21it/s, loss=0.123] \n"
     ]
    }
   ],
   "source": [
    "criterion = nn.BCEWithLogitsLoss()\n",
    "optim = torch.optim.Adam(model.parameters(), lr=3e-4)\n",
    "\n",
    "losses = []\n",
    "for epoch in range(3):\n",
    "    progress = tqdm(train_dataloader, desc=f\"Epoch {epoch}\")\n",
    "    for X_batch, Y_batch in progress:\n",
    "        Y_pred = model(X_batch)\n",
    "        loss = criterion(Y_pred, Y_batch)\n",
    "        optim.zero_grad()\n",
    "        loss.backward()\n",
    "        optim.step()\n",
    "        losses.append(loss.item())\n",
    "        progress.set_postfix(loss=losses[-1])"
   ]
  },
  {
   "cell_type": "code",
   "execution_count": 17,
   "metadata": {},
   "outputs": [
    {
     "data": {
      "image/png": "[encoded data removed]",
      "text/plain": [
       "<Figure size 640x480 with 1 Axes>"
      ]
     },
     "metadata": {},
     "output_type": "display_data"
    }
   ],
   "source": [
    "import matplotlib.pyplot as plt\n",
    "plt.plot(losses)\n",
    "plt.title(\"Training curve\")\n",
    "plt.show()"
   ]
  },
  {
   "cell_type": "code",
   "execution_count": 18,
   "metadata": {},
   "outputs": [
    {
     "name": "stderr",
     "output_type": "stream",
     "text": [
      "Testing: 100%|██████████| 4214/4214 [00:02<00:00, 2033.53it/s]"
     ]
    },
    {
     "name": "stdout",
     "output_type": "stream",
     "text": [
      "Training Accuracy: 95.70%\n"
     ]
    },
    {
     "name": "stderr",
     "output_type": "stream",
     "text": [
      "\n"
     ]
    }
   ],
   "source": [
    "progress = tqdm(train_dataloader, desc=f\"Testing\")\n",
    "accs = []\n",
    "for X_batch, Y_batch in progress:\n",
    "    Y_pred = model(X_batch)\n",
    "    acc = ((Y_pred > 0) == Y_batch).cpu().numpy().mean()\n",
    "    accs.append(acc)\n",
    "acc = np.mean(accs)\n",
    "print(f\"Training Accuracy: {acc:.2%}\")"
   ]
  },
  {
   "cell_type": "code",
   "execution_count": 19,
   "metadata": {},
   "outputs": [
    {
     "data": {
      "text/plain": [
       "(125866, (125866, 43), (125866, 768))"
      ]
     },
     "execution_count": 19,
     "metadata": {},
     "output_type": "execute_result"
    }
   ],
   "source": [
    "with open(\"test_new.pkl\", \"rb\") as f:\n",
    "    test_keys, Y_test, X_test = pickle.load(f)\n",
    "len(test_keys), Y_test.shape, X_test.shape"
   ]
  },
  {
   "cell_type": "code",
   "execution_count": 20,
   "metadata": {},
   "outputs": [],
   "source": [
    "X_test_tensor = torch.tensor(X_test, dtype=torch.float32, device=DEVICE)\n",
    "Y_test_tensor = torch.tensor(Y_test, dtype=torch.float32, device=DEVICE)\n",
    "test_set = torch.utils.data.TensorDataset(X_test_tensor, Y_test_tensor)\n",
    "test_dataloader = torch.utils.data.DataLoader(test_set, batch_size=64, shuffle=False)"
   ]
  },
  {
   "cell_type": "code",
   "execution_count": 21,
   "metadata": {},
   "outputs": [
    {
     "name": "stderr",
     "output_type": "stream",
     "text": [
      "Testing: 100%|██████████| 1967/1967 [00:00<00:00, 2019.76it/s]\n"
     ]
    }
   ],
   "source": [
    "progress = tqdm(test_dataloader, desc=f\"Testing\")\n",
    "preds = []\n",
    "for X_batch, Y_batch in progress:\n",
    "    y_pred = model(X_batch)\n",
    "    preds.append(y_pred.cpu().detach().numpy())\n",
    "Y_pred = np.concatenate(preds)"
   ]
  },
  {
   "cell_type": "code",
   "execution_count": 22,
   "metadata": {},
   "outputs": [
    {
     "name": "stdout",
     "output_type": "stream",
     "text": [
      "Test F1: 65.19%\n",
      "Test F1 per class: 33.62%, 64.47%, 30.72%, 0.00%, 0.00%, 0.00%, 0.00%, 0.00%, 0.00%, 1.37%, 0.00%, 78.00%, 1.72%, 0.00%, 0.00%, 7.37%, 0.52%, 60.27%, 20.30%, 55.38%, 54.51%, 63.53%, 62.41%, 78.42%, 74.59%, 14.26%, 20.49%, 37.79%, 52.70%, 29.85%, 0.00%, 17.94%, 0.00%, 0.00%, 38.47%, 0.00%, 0.00%, 0.00%, 35.03%, 71.49%, 0.00%, 0.00%, 92.18%\n",
      "Test Subset Accuracy: 25.39%\n",
      "Test Accuracy per class: 98.06%, 92.36%, 97.85%, 99.59%, 99.94%, 99.89%, 99.62%, 99.93%, 99.87%, 99.77%, 99.52%, 84.22%, 97.37%, 99.48%, 98.21%, 99.42%, 97.57%, 87.83%, 98.65%, 84.57%, 80.17%, 96.09%, 81.81%, 86.73%, 82.66%, 97.98%, 99.10%, 98.05%, 77.48%, 99.81%, 99.65%, 99.85%, 99.97%, 98.93%, 97.37%, 99.79%, 99.92%, 99.87%, 98.33%, 93.73%, 99.72%, 99.80%, 97.88%\n",
      "Test Precision: 74.51%\n"
     ]
    },
    {
     "name": "stderr",
     "output_type": "stream",
     "text": [
      "/home/kleincode/miniconda3/envs/csmae/lib/python3.8/site-packages/sklearn/metrics/_classification.py:1344: UndefinedMetricWarning: Precision is ill-defined and being set to 0.0 in labels with no predicted samples. Use `zero_division` parameter to control this behavior.\n",
      "  _warn_prf(average, modifier, msg_start, len(result))\n"
     ]
    },
    {
     "name": "stdout",
     "output_type": "stream",
     "text": [
      "Test Precision per class: 59.22%, 77.04%, 54.85%, 0.00%, 0.00%, 0.00%, 0.00%, 0.00%, 0.00%, 66.67%, 0.00%, 77.38%, 47.54%, 0.00%, 0.00%, 34.12%, 50.00%, 80.82%, 55.22%, 67.41%, 65.54%, 68.69%, 70.97%, 80.16%, 74.05%, 74.04%, 59.11%, 59.60%, 66.57%, 43.86%, 0.00%, 34.48%, 0.00%, 0.00%, 76.58%, 0.00%, 0.00%, 0.00%, 61.67%, 72.06%, 0.00%, 0.00%, 94.19%\n",
      "Test Recall: 57.94%\n",
      "Test Recall per class: 23.48%, 55.43%, 21.33%, 0.00%, 0.00%, 0.00%, 0.00%, 0.00%, 0.00%, 0.69%, 0.00%, 78.64%, 0.88%, 0.00%, 0.00%, 4.13%, 0.26%, 48.06%, 12.44%, 46.99%, 46.66%, 59.10%, 55.69%, 76.74%, 75.14%, 7.89%, 12.39%, 27.66%, 43.61%, 22.62%, 0.00%, 12.12%, 0.00%, 0.00%, 25.69%, 0.00%, 0.00%, 0.00%, 24.46%, 70.94%, 0.00%, 0.00%, 90.26%\n",
      "Test Balanced Accuracy per class: 61.56%, 76.53%, 60.47%, 50.00%, 50.00%, 50.00%, 50.00%, 50.00%, 50.00%, 50.34%, 50.00%, 82.97%, 50.43%, 50.00%, 50.00%, 52.04%, 50.13%, 72.67%, 56.15%, 70.59%, 69.14%, 78.72%, 73.61%, 84.02%, 80.83%, 53.91%, 56.16%, 63.63%, 67.38%, 61.29%, 50.00%, 56.05%, 50.00%, 50.00%, 62.72%, 50.00%, 50.00%, 50.00%, 62.09%, 83.75%, 50.00%, 50.00%, 94.68%\n"
     ]
    }
   ],
   "source": [
    "from sklearn.metrics import f1_score, accuracy_score, precision_score, recall_score, balanced_accuracy_score\n",
    "\n",
    "f1_total = f1_score(Y_test, Y_pred > 0, average=\"micro\")\n",
    "print(f\"Test F1: {f1_total:.2%}\")\n",
    "f1_per_class = f1_score(Y_test, Y_pred > 0, average=None)\n",
    "print(f\"Test F1 per class: {', '.join(f'{f1:.2%}' for f1 in f1_per_class)}\")\n",
    "\n",
    "# \"In multilabel classification, this function computes subset accuracy: the set of labels predicted for a sample must exactly match the corresponding set of labels in y_true.\"\n",
    "subset_accuracy = accuracy_score(Y_test, Y_pred > 0)\n",
    "print(f\"Test Subset Accuracy: {subset_accuracy:.2%}\")\n",
    "accuracy_per_class = [accuracy_score(Y_test[:, i], Y_pred[:, i] > 0) for i in range(Y_test.shape[1])]\n",
    "print(f\"Test Accuracy per class: {', '.join(f'{acc:.2%}' for acc in accuracy_per_class)}\")\n",
    "\n",
    "precision_total = precision_score(Y_test, Y_pred > 0, average=\"micro\")\n",
    "print(f\"Test Precision: {precision_total:.2%}\")\n",
    "precision_per_class = precision_score(Y_test, Y_pred > 0, average=None)\n",
    "print(f\"Test Precision per class: {', '.join(f'{precision:.2%}' for precision in precision_per_class)}\")\n",
    "\n",
    "recall_total = recall_score(Y_test, Y_pred > 0, average=\"micro\")\n",
    "print(f\"Test Recall: {recall_total:.2%}\")\n",
    "recall_per_class = recall_score(Y_test, Y_pred > 0, average=None)\n",
    "print(f\"Test Recall per class: {', '.join(f'{recall:.2%}' for recall in recall_per_class)}\")\n",
    "\n",
    "balanced_accuracy_per_class = [balanced_accuracy_score(Y_test[:, i], Y_pred[:, i] > 0) for i in range(Y_test.shape[1])]\n",
    "print(f\"Test Balanced Accuracy per class: {', '.join(f'{balanced_accuracy:.2%}' for balanced_accuracy in balanced_accuracy_per_class)}\")"
   ]
  },
  {
   "cell_type": "markdown",
   "metadata": {},
   "source": [
    "Old:\n",
    "\n",
    "```\n",
    "Test F1: 43.04%\n",
    "Test F1 per class: 2.10%, 39.75%, 32.22%, 0.00%, 22.92%, 0.00%, 0.00%, 0.00%, 0.00%, 0.00%, 0.00%, 60.16%, 0.00%, 0.00%, 0.00%, 0.00%, 0.00%, 24.03%, 0.00%, 0.00%, 7.67%, 21.21%, 27.64%, 63.38%, 58.18%, 0.22%, 0.00%, 0.00%, 32.55%, 0.00%, 0.00%, 10.95%, 0.00%, 0.00%, 0.00%, 0.00%, 0.00%, 0.00%, 0.00%, 59.49%, 0.00%, 0.00%, 89.05%\n",
    "Test Subset Accuracy: 18.57%\n",
    "Test Accuracy per class: 97.92%, 89.84%, 98.01%, 99.59%, 99.94%, 99.89%, 99.62%, 99.93%, 99.87%, 99.77%, 99.52%, 74.46%, 97.38%, 99.48%, 98.21%, 99.44%, 97.57%, 81.75%, 98.61%, 79.63%, 74.69%, 94.32%, 75.32%, 80.08%, 76.15%, 97.87%, 99.06%, 97.86%, 72.35%, 99.82%, 99.65%, 99.86%, 99.97%, 98.93%, 96.81%, 99.79%, 99.92%, 99.87%, 98.16%, 92.56%, 99.72%, 99.80%, 97.01%\n",
    "Test Precision: 70.88%\n",
    "/home/kleincode/miniconda3/envs/csmae/lib/python3.8/site-packages/sklearn/metrics/_classification.py:1344: UndefinedMetricWarning: Precision is ill-defined and being set to 0.0 in labels with no predicted samples. Use `zero_division` parameter to control this behavior.\n",
    "  _warn_prf(average, modifier, msg_start, len(result))\n",
    "Test Precision per class: 90.32%, 76.76%, 66.89%, 0.00%, 68.75%, 0.00%, 0.00%, 0.00%, 0.00%, 0.00%, 0.00%, 67.62%, 0.00%, 0.00%, 0.00%, 0.00%, 0.00%, 59.85%, 0.00%, 0.00%, 53.97%, 53.12%, 67.42%, 74.96%, 71.65%, 42.86%, 0.00%, 0.00%, 54.59%, 0.00%, 0.00%, 30.56%, 0.00%, 0.00%, 0.00%, 0.00%, 0.00%, 0.00%, 0.00%, 75.12%, 0.00%, 0.00%, 90.57%\n",
    "Test Recall: 30.90%\n",
    "Test Recall per class: 1.06%, 26.82%, 21.23%, 0.00%, 13.75%, 0.00%, 0.00%, 0.00%, 0.00%, 0.00%, 0.00%, 54.18%, 0.00%, 0.00%, 0.00%, 0.00%, 0.00%, 15.04%, 0.00%, 0.00%, 4.13%, 13.25%, 17.38%, 54.90%, 48.97%, 0.11%, 0.00%, 0.00%, 23.19%, 0.00%, 0.00%, 6.67%, 0.00%, 0.00%, 0.00%, 0.00%, 0.00%, 0.00%, 0.00%, 49.25%, 0.00%, 0.00%, 87.57%\n",
    "Test Balanced Accuracy per class: 50.53%, 62.83%, 60.49%, 50.00%, 56.87%, 50.00%, 50.00%, 50.00%, 50.00%, 50.00%, 50.00%, 69.92%, 50.00%, 50.00%, 50.00%, 50.00%, 50.00%, 56.32%, 50.00%, 50.00%, 51.46%, 56.27%, 57.13%, 73.25%, 69.52%, 50.05%, 50.00%, 50.00%, 57.70%, 50.00%, 50.00%, 53.32%, 50.00%, 50.00%, 50.00%, 50.00%, 50.00%, 50.00%, 50.00%, 73.61%, 50.00%, 50.00%, 93.05%\n",
    "```"
   ]
  },
  {
   "cell_type": "code",
   "execution_count": null,
   "metadata": {},
   "outputs": [],
   "source": []
  }
 ],
 "metadata": {
  "kernelspec": {
   "display_name": "csmae",
   "language": "python",
   "name": "python3"
  },
  "language_info": {
   "codemirror_mode": {
    "name": "ipython",
    "version": 3
   },
   "file_extension": ".py",
   "mimetype": "text/x-python",
   "name": "python",
   "nbconvert_exporter": "python",
   "pygments_lexer": "ipython3",
   "version": "3.8.16"
  }
 },
 "nbformat": 4,
 "nbformat_minor": 2
}
